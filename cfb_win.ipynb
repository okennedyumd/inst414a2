{
 "cells": [
  {
   "cell_type": "code",
   "execution_count": 1,
   "metadata": {},
   "outputs": [],
   "source": [
    "import json\n",
    "import requests\n",
    "import pandas as pd"
   ]
  },
  {
   "cell_type": "code",
   "execution_count": 4,
   "metadata": {},
   "outputs": [],
   "source": [
    "api_url = \"https://api.collegefootballdata.com/\"\n",
    "response = requests.get(\n",
    "    api_url + \"/games?\",\n",
    "    params={\n",
    "        \"year\": \"2022\",\n",
    "        \"seasonType\": \"regular\",\n",
    "        \"team\": \"Georgia\"\n",
    "    }\n",
    ")\n"
   ]
  }
 ],
 "metadata": {
  "kernelspec": {
   "display_name": "Python 3",
   "language": "python",
   "name": "python3"
  },
  "language_info": {
   "codemirror_mode": {
    "name": "ipython",
    "version": 3
   },
   "file_extension": ".py",
   "mimetype": "text/x-python",
   "name": "python",
   "nbconvert_exporter": "python",
   "pygments_lexer": "ipython3",
   "version": "3.10.10"
  },
  "orig_nbformat": 4,
  "vscode": {
   "interpreter": {
    "hash": "ad117a5ae9a89a9141fdb06e69f9a1aba4f3648040655c289d67734dca4401ad"
   }
  }
 },
 "nbformat": 4,
 "nbformat_minor": 2
}
