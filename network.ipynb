{
 "cells": [
  {
   "cell_type": "code",
   "execution_count": 1,
   "metadata": {},
   "outputs": [],
   "source": [
    "import pandas as pd\n",
    "import networkx as nx\n",
    "import matplotlib as plt\n",
    "import cfbd"
   ]
  },
  {
   "cell_type": "code",
   "execution_count": 2,
   "metadata": {},
   "outputs": [],
   "source": [
    "configuration = cfbd.Configuration()\n",
    "configuration.api_key['Authorization'] = 'YJ5gLZjtsR9KtIihcsBr50B+fdpMMkb2vPwmN+NSP1H8Iyf1a4x8d+LdBPe3CAHl'\n",
    "configuration.api_key_prefix['Authorization'] = 'Bearer'"
   ]
  },
  {
   "cell_type": "code",
   "execution_count": 3,
   "metadata": {},
   "outputs": [
    {
     "data": {
      "text/html": [
       "<div>\n",
       "<style scoped>\n",
       "    .dataframe tbody tr th:only-of-type {\n",
       "        vertical-align: middle;\n",
       "    }\n",
       "\n",
       "    .dataframe tbody tr th {\n",
       "        vertical-align: top;\n",
       "    }\n",
       "\n",
       "    .dataframe thead th {\n",
       "        text-align: right;\n",
       "    }\n",
       "</style>\n",
       "<table border=\"1\" class=\"dataframe\">\n",
       "  <thead>\n",
       "    <tr style=\"text-align: right;\">\n",
       "      <th></th>\n",
       "      <th>0</th>\n",
       "    </tr>\n",
       "  </thead>\n",
       "  <tbody>\n",
       "    <tr>\n",
       "      <th>0</th>\n",
       "      <td>{'attendance': None,\\n 'away_conference': 'SEC...</td>\n",
       "    </tr>\n",
       "    <tr>\n",
       "      <th>1</th>\n",
       "      <td>{'attendance': None,\\n 'away_conference': 'Mid...</td>\n",
       "    </tr>\n",
       "    <tr>\n",
       "      <th>2</th>\n",
       "      <td>{'attendance': None,\\n 'away_conference': 'Con...</td>\n",
       "    </tr>\n",
       "    <tr>\n",
       "      <th>3</th>\n",
       "      <td>{'attendance': None,\\n 'away_conference': 'Wes...</td>\n",
       "    </tr>\n",
       "    <tr>\n",
       "      <th>4</th>\n",
       "      <td>{'attendance': None,\\n 'away_conference': 'Ame...</td>\n",
       "    </tr>\n",
       "    <tr>\n",
       "      <th>...</th>\n",
       "      <td>...</td>\n",
       "    </tr>\n",
       "    <tr>\n",
       "      <th>108</th>\n",
       "      <td>{'attendance': None,\\n 'away_conference': 'ACC...</td>\n",
       "    </tr>\n",
       "    <tr>\n",
       "      <th>109</th>\n",
       "      <td>{'attendance': None,\\n 'away_conference': 'SEC...</td>\n",
       "    </tr>\n",
       "    <tr>\n",
       "      <th>110</th>\n",
       "      <td>{'attendance': None,\\n 'away_conference': 'SEC...</td>\n",
       "    </tr>\n",
       "    <tr>\n",
       "      <th>111</th>\n",
       "      <td>{'attendance': None,\\n 'away_conference': 'SEC...</td>\n",
       "    </tr>\n",
       "    <tr>\n",
       "      <th>112</th>\n",
       "      <td>{'attendance': None,\\n 'away_conference': 'SEC...</td>\n",
       "    </tr>\n",
       "  </tbody>\n",
       "</table>\n",
       "<p>113 rows × 1 columns</p>\n",
       "</div>"
      ],
      "text/plain": [
       "                                                     0\n",
       "0    {'attendance': None,\\n 'away_conference': 'SEC...\n",
       "1    {'attendance': None,\\n 'away_conference': 'Mid...\n",
       "2    {'attendance': None,\\n 'away_conference': 'Con...\n",
       "3    {'attendance': None,\\n 'away_conference': 'Wes...\n",
       "4    {'attendance': None,\\n 'away_conference': 'Ame...\n",
       "..                                                 ...\n",
       "108  {'attendance': None,\\n 'away_conference': 'ACC...\n",
       "109  {'attendance': None,\\n 'away_conference': 'SEC...\n",
       "110  {'attendance': None,\\n 'away_conference': 'SEC...\n",
       "111  {'attendance': None,\\n 'away_conference': 'SEC...\n",
       "112  {'attendance': None,\\n 'away_conference': 'SEC...\n",
       "\n",
       "[113 rows x 1 columns]"
      ]
     },
     "execution_count": 3,
     "metadata": {},
     "output_type": "execute_result"
    }
   ],
   "source": [
    "api_instance = cfbd.GamesApi(cfbd.ApiClient(configuration))\n",
    "games = api_instance.get_games(year=2022, conference='SEC')\n",
    "games_df = pd.DataFrame(games)\n",
    "games_df"
   ]
  },
  {
   "cell_type": "code",
   "execution_count": 4,
   "metadata": {},
   "outputs": [],
   "source": [
    "graph = nx.Graph()"
   ]
  },
  {
   "cell_type": "code",
   "execution_count": 5,
   "metadata": {},
   "outputs": [
    {
     "name": "stdout",
     "output_type": "stream",
     "text": [
      "[\"Hawai'i\", 'Vanderbilt', 'Tennessee', 'Ball State', 'Missouri', 'Louisiana Tech', 'Texas A&M', 'Sam Houston State', 'Arkansas', 'Cincinnati', 'Georgia', 'Oregon', 'Ole Miss', 'Troy', 'Auburn', 'Mercer', 'Florida', 'Utah', 'Elon', 'Kentucky', 'Miami (OH)', 'South Carolina', 'Georgia State', 'Alabama', 'Utah State', 'Mississippi State', 'Memphis', 'Florida State', 'LSU', 'Texas', 'Wake Forest', 'Kansas State', 'Pittsburgh', 'Appalachian State', 'Samford', 'Central Arkansas', 'Southern', 'San José State', 'Arizona', 'Youngstown State', 'Abilene Christian', 'Georgia Tech', 'Northern Illinois', 'Penn State', 'Louisiana Monroe', 'Missouri State', 'Akron', 'South Florida', 'Miami', 'Kent State', 'Bowling Green', 'Tulsa', 'Charlotte', 'New Mexico', 'South Carolina State', 'Eastern Washington', 'BYU', 'UT Martin', 'Liberty', 'East Tennessee State', 'Austin Peay', 'UMass', 'Western Kentucky', 'New Mexico State', 'UAB', 'Clemson', 'Louisville']\n"
     ]
    }
   ],
   "source": [
    "teams = []\n",
    "for k in games:\n",
    "    home_team = k.home_team\n",
    "    away_team = k.away_team\n",
    "    if home_team not in teams:\n",
    "        teams.append(home_team)\n",
    "    if away_team not in teams:\n",
    "        teams.append(away_team)\n",
    "print(teams)"
   ]
  },
  {
   "cell_type": "code",
   "execution_count": 6,
   "metadata": {},
   "outputs": [
    {
     "name": "stdout",
     "output_type": "stream",
     "text": [
      "Nodes: 67\n"
     ]
    }
   ],
   "source": [
    "for team in teams:\n",
    "    graph.add_node(team)\n",
    "print(\"Nodes:\", len(graph.nodes))"
   ]
  },
  {
   "cell_type": "code",
   "execution_count": 7,
   "metadata": {},
   "outputs": [],
   "source": [
    "for k in games:\n",
    "    if  k.home_points > k.away_points:\n",
    "        winner = k.home_team\n",
    "        loser = k.away_team\n",
    "    else:\n",
    "        winner = k.away_team\n",
    "        loser = k.home_team\n",
    "    graph.add_edge(winner, loser)"
   ]
  },
  {
   "cell_type": "code",
   "execution_count": 13,
   "metadata": {},
   "outputs": [],
   "source": [
    "nx.ego_graph(graph,\"Georgia\",radius=4)\n",
    "nx.write_graphml(graph, \"sec_teams_2.graphml\")"
   ]
  }
 ],
 "metadata": {
  "kernelspec": {
   "display_name": "Python 3",
   "language": "python",
   "name": "python3"
  },
  "language_info": {
   "codemirror_mode": {
    "name": "ipython",
    "version": 3
   },
   "file_extension": ".py",
   "mimetype": "text/x-python",
   "name": "python",
   "nbconvert_exporter": "python",
   "pygments_lexer": "ipython3",
   "version": "3.10.10"
  },
  "orig_nbformat": 4,
  "vscode": {
   "interpreter": {
    "hash": "ad117a5ae9a89a9141fdb06e69f9a1aba4f3648040655c289d67734dca4401ad"
   }
  }
 },
 "nbformat": 4,
 "nbformat_minor": 2
}
