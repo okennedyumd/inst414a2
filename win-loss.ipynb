{
 "cells": [
  {
   "cell_type": "code",
   "execution_count": 1,
   "metadata": {},
   "outputs": [],
   "source": [
    "import pandas as pd\n",
    "import networkx as nx\n",
    "import matplotlib as plt\n",
    "import cfbd"
   ]
  },
  {
   "cell_type": "code",
   "execution_count": 2,
   "metadata": {},
   "outputs": [],
   "source": [
    "configuration = cfbd.Configuration()\n",
    "configuration.api_key['Authorization'] = 'YJ5gLZjtsR9KtIihcsBr50B+fdpMMkb2vPwmN+NSP1H8Iyf1a4x8d+LdBPe3CAHl'\n",
    "configuration.api_key_prefix['Authorization'] = 'Bearer'"
   ]
  },
  {
   "cell_type": "code",
   "execution_count": 16,
   "metadata": {},
   "outputs": [
    {
     "name": "stdout",
     "output_type": "stream",
     "text": [
      "Alabama\n",
      "0.846\n",
      "Arkansas\n",
      "0.462\n",
      "Auburn\n",
      "0.417\n",
      "Florida\n",
      "0.462\n",
      "Georgia\n",
      "1.0\n",
      "Kentucky\n",
      "0.538\n",
      "LSU\n",
      "0.643\n",
      "Mississippi State\n",
      "0.692\n",
      "Missouri\n",
      "0.462\n",
      "Ole Miss\n",
      "0.615\n",
      "South Carolina\n",
      "0.615\n",
      "Tennessee\n",
      "0.846\n",
      "Texas A&M\n",
      "0.417\n",
      "Vanderbilt\n",
      "0.417\n"
     ]
    }
   ],
   "source": [
    "api_instance = cfbd.GamesApi(cfbd.ApiClient(configuration))\n",
    "records = api_instance.get_team_records(year=2022, conference='SEC')\n",
    "records_df = pd.DataFrame(records)\n",
    "team_records = {}\n",
    "for k in records:\n",
    "    team = k.team\n",
    "    team_per = round(k.total.wins / k.total.games, 3)\n",
    "    print(team)\n",
    "    print(team_per)"
   ]
  }
 ],
 "metadata": {
  "kernelspec": {
   "display_name": "Python 3",
   "language": "python",
   "name": "python3"
  },
  "language_info": {
   "codemirror_mode": {
    "name": "ipython",
    "version": 3
   },
   "file_extension": ".py",
   "mimetype": "text/x-python",
   "name": "python",
   "nbconvert_exporter": "python",
   "pygments_lexer": "ipython3",
   "version": "3.10.10"
  },
  "orig_nbformat": 4
 },
 "nbformat": 4,
 "nbformat_minor": 2
}
